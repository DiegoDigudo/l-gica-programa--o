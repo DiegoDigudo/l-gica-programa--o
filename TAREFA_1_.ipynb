{
  "nbformat": 4,
  "nbformat_minor": 0,
  "metadata": {
    "colab": {
      "provenance": []
    },
    "kernelspec": {
      "name": "python3",
      "display_name": "Python 3"
    },
    "language_info": {
      "name": "python"
    }
  },
  "cells": [
    {
      "cell_type": "code",
      "execution_count": null,
      "metadata": {
        "id": "Q7pSqGfKaFSb"
      },
      "outputs": [],
      "source": [
        "Utilize o comando 'input' para receber ao menos 2 números de entrada do usuário;\n",
        "\n",
        "Converta os valores recebidos pelo usuário para número inteiro (int) ou ponto flutuante (float);\n",
        "\n",
        "Implemente ao menos 4 operações matemáticas em seu código;\n",
        "\n",
        "Adicione um laço de repetição ou uma condicional. Por exemplo: você pode permitir que o usuário escolha qual operação realizar ou criar um loop que permita ao usuário realizar várias operações consecutivas;\n",
        "\n",
        "Utilize o comando 'print' para exibir o resultado da operação matemática."
      ]
    },
    {
      "cell_type": "code",
      "source": [
        "primeiro_valor = input(\"digite o seu primeiro valor\")\n",
        "segundo_valor = input(\"digite o seu segundo valor\")\n",
        "\n",
        "primeiro_valor = int (primeiro_valor)\n",
        "segundo_valor = int (segundo_valor)\n",
        "primeiro_valor + segundo_valor\n",
        "resultado_soma = primeiro_valor + segundo_valor\n",
        "\n",
        "print('o resultado da soma é ',resultado_soma)\n",
        "resultado_subtracao = primeiro_valor - segundo_valor\n",
        "print('resultado da subtração é ',resultado_subtracao)\n",
        "\n",
        "resultado_multiplicacao = primeiro_valor * segundo_valor\n",
        "print('resultado da multiplicação é ',resultado_multiplicacao)\n",
        "\n",
        "resultado_divisao = primeiro_valor / segundo_valor\n",
        "print('resultado da divisão é ',resultado_divisao)\n",
        "\n",
        "\n",
        "operacao = input('qual o tipo de operação você quer fazer ? opçoes validas soma,menos,vezes ou dividir ')\n",
        "\n",
        "if operacao == 'soma' :\n",
        "  resultado = primeiro_valor + segundo_valor\n",
        "\n",
        "if operacao == 'menos' :\n",
        "  resultado = primeiro_valor - segundo_valor\n",
        "\n",
        "if operacao == 'vezes' :\n",
        "  resultado = primeiro_valor * segundo_valor\n",
        "\n",
        "if operacao == 'dividir' :\n",
        "  resultado = primeiro_valor / segundo_valor\n",
        "\n",
        "print('o resultado é ', resultado)\n",
        "\n"
      ],
      "metadata": {
        "colab": {
          "base_uri": "https://localhost:8080/"
        },
        "id": "40H0-_QwfJLg",
        "outputId": "c27a596a-d9ad-47fb-a917-eb1f4d5ab1b2"
      },
      "execution_count": 17,
      "outputs": [
        {
          "output_type": "stream",
          "name": "stdout",
          "text": [
            "digite o seu primeiro valor50\n",
            "digite o seu segundo valor5\n",
            "o resultado da soma é  55\n",
            "resultado da subtração é  45\n",
            "resultado da multiplicação é  250\n",
            "resultado da divisão é  10.0\n",
            "qual o tipo de operação você quer fazer ? opçoes validas soma,menos,vezes ou dividir dividir\n",
            "o resultado é  10.0\n"
          ]
        }
      ]
    }
  ]
}